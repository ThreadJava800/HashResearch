{
 "cells": [
  {
   "cell_type": "code",
   "execution_count": null,
   "metadata": {},
   "outputs": [],
   "source": [
    "import matplotlib.pyplot as plt\n",
    "import pandas as pd\n",
    "import seaborn as sns\n",
    "import numpy as np"
   ]
  },
  {
   "cell_type": "code",
   "execution_count": null,
   "metadata": {},
   "outputs": [],
   "source": [
    "df = pd.read_csv(\"../hashTests.csv\", index_col=False)\n",
    "df"
   ]
  },
  {
   "cell_type": "code",
   "execution_count": null,
   "metadata": {},
   "outputs": [],
   "source": [
    "x = list(range(0, 127))\n",
    "y = pd.Series(df[\"NUMBER\"].to_numpy(), name=\"y\")\n",
    "              \n",
    "plt.figure(figsize=(16, 5), dpi=600)\n",
    "plt.ylabel(\"Количество строк\")\n",
    "plt.xlabel(\"Значение хеш-функции mod 127\")\n",
    "plt.title(\"Константный хеш\")\n",
    "\n",
    "sns.histplot(x=x, weights=y, discrete=True,\n",
    "                  kde=False, kde_kws={'bw_adjust': 0.2}, line_kws={'linewidth': 3})"
   ]
  },
  {
   "cell_type": "code",
   "execution_count": null,
   "metadata": {},
   "outputs": [],
   "source": [
    "x = list(range(0, 127))\n",
    "y = pd.Series(df[\"ASCII\"].to_numpy(), name=\"y\")\n",
    "\n",
    "plt.figure(figsize=(16, 5), dpi=600)\n",
    "plt.ylabel(\"Количество строк\")\n",
    "plt.xlabel(\"Значение хеш-функции mod 127\")\n",
    "plt.title(\"ASCII-код первого символа\")\n",
    "\n",
    "sns.histplot(x=x, weights=y, discrete=True,\n",
    "                  kde=False, kde_kws={'bw_adjust': 0.2}, line_kws={'linewidth': 3})"
   ]
  },
  {
   "cell_type": "code",
   "execution_count": null,
   "metadata": {},
   "outputs": [],
   "source": [
    "x = list(range(0, 127))\n",
    "y = pd.Series(df[\"LENGTH\"].to_numpy(), name=\"y\")\n",
    "\n",
    "plt.figure(figsize=(16, 5), dpi=600)\n",
    "plt.ylabel(\"Количество строк\")\n",
    "plt.xlabel(\"Значение хеш-функции mod 127\")\n",
    "plt.title(\"Длина строки\")\n",
    "\n",
    "sns.histplot(x=x, weights=y, discrete=True,\n",
    "                  kde=True, kde_kws={'bw_adjust': 0.2}, line_kws={'linewidth': 3})"
   ]
  },
  {
   "cell_type": "code",
   "execution_count": null,
   "metadata": {},
   "outputs": [],
   "source": [
    "x = list(range(0, 127))\n",
    "y  = pd.Series(df[\"GNU\"].to_numpy(), name=\"y\")\n",
    "y1 = pd.Series(df[\"ROTR\"].to_numpy(), name=\"y1\")\n",
    "y2 = pd.Series(df[\"ROTL\"].to_numpy(), name=\"y2\")\n",
    "\n",
    "plt.figure(figsize=(16, 5), dpi=600)\n",
    "plt.ylabel(\"Количество строк\")\n",
    "plt.xlabel(\"Значение хеш-функции mod 127\")\n",
    "plt.title(\"Сравнение GNU, ROR и ROL хешей\")\n",
    "\n",
    "sns.histplot(x=x, weights=y, discrete=True,\n",
    "                  kde=False, kde_kws={'bw_adjust': 0.2}, line_kws={'linewidth': 3}, label=\"GNU\")\n",
    "sns.histplot(x=x, weights=y1, discrete=True,\n",
    "                  kde=False, kde_kws={'bw_adjust': 0.2}, line_kws={'linewidth': 3}, label=\"ROR\")\n",
    "plot = sns.histplot(x=x, weights=y2, discrete=True,\n",
    "                  kde=False, kde_kws={'bw_adjust': 0.2}, line_kws={'linewidth': 3}, label=\"ROL\")\n",
    "\n",
    "plot.legend()"
   ]
  },
  {
   "cell_type": "code",
   "execution_count": null,
   "metadata": {},
   "outputs": [],
   "source": [
    "x = list(range(0, 127))\n",
    "y  = pd.Series(df[\"GNU\"].to_numpy(), name=\"y\")\n",
    "y1 = pd.Series(df[\"ROTR\"].to_numpy(), name=\"y1\")\n",
    "\n",
    "plt.figure(figsize=(16, 3), dpi=600)\n",
    "plt.ylabel(\"Количество строк\")\n",
    "plt.xlabel(\"Значение хеш-функции mod 127\")\n",
    "plt.title(\"Сравнение ROR и GNU хешей\")\n",
    "\n",
    "sns.histplot(x=x, weights=y, discrete=True,\n",
    "                  kde=True, kde_kws={'bw_adjust': 0.2}, line_kws={'linewidth': 3}, label=\"GNU\")\n",
    "plot = sns.histplot(x=x, weights=y1, discrete=True,\n",
    "                  kde=True, kde_kws={'bw_adjust': 0.2}, line_kws={'linewidth': 3}, label=\"ROR\")\n",
    "\n",
    "plot.set(ylim=(1800, 2200))\n",
    "plot.legend()"
   ]
  },
  {
   "cell_type": "code",
   "execution_count": null,
   "metadata": {},
   "outputs": [],
   "source": [
    "x = list(range(0, 127))\n",
    "y  = pd.Series(df[\"ROTL\"].to_numpy(), name=\"y\")\n",
    "y1 = pd.Series(df[\"ROTR\"].to_numpy(), name=\"y1\")\n",
    "\n",
    "plt.figure(figsize=(16, 3), dpi=600)\n",
    "plt.ylabel(\"Количество строк\")\n",
    "plt.xlabel(\"Значение хеш-функции mod 127\")\n",
    "plt.title(\"Сравнение ROR и ROL хешей\")\n",
    "\n",
    "plt.legend([\"ROR\", \"ROL\"])\n",
    "\n",
    "sns.histplot(x=x, weights=y, discrete=True,\n",
    "                  kde=True, kde_kws={'bw_adjust': 0.2}, line_kws={'linewidth': 3}, label=\"ROL\")\n",
    "plot = sns.histplot(x=x, weights=y1, discrete=True,\n",
    "                  kde=True, kde_kws={'bw_adjust': 0.2}, line_kws={'linewidth': 3}, label=\"ROR\")\n",
    "\n",
    "plot.set(ylim=(1800, 2200))\n",
    "plot.legend()"
   ]
  }
 ],
 "metadata": {
  "kernelspec": {
   "display_name": "Python 3",
   "language": "python",
   "name": "python3"
  },
  "language_info": {
   "codemirror_mode": {
    "name": "ipython",
    "version": 3
   },
   "file_extension": ".py",
   "mimetype": "text/x-python",
   "name": "python",
   "nbconvert_exporter": "python",
   "pygments_lexer": "ipython3",
   "version": "3.10.10"
  },
  "orig_nbformat": 4
 },
 "nbformat": 4,
 "nbformat_minor": 2
}
